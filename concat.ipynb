{
 "cells": [
  {
   "cell_type": "code",
   "execution_count": 6,
   "metadata": {},
   "outputs": [],
   "source": [
    "import sys\n",
    "sys.path.append('libsigma/')\n",
    "import os\n",
    "import read_and_write as rw\n",
    "import numpy as np\n",
    "\n",
    "\n",
    "def reproject_raster(input_raster, output_raster, src_epsg, dst_epsg):\n",
    "    # Define the command pattern to fill with parameters\n",
    "    cmd_pattern = (\"gdalwarp -s_srs EPSG:{src_epsg} \"\n",
    "                   \"-t_srs EPSG:{dst_epsg} \"\n",
    "                   \"-r near \"\n",
    "                   \"-of GTiff \"\n",
    "                   \"{input_raster} {output_raster}\")\n",
    "    \n",
    "    # Fill the string with the parameters using format function\n",
    "    cmd = cmd_pattern.format(input_raster=input_raster, output_raster=output_raster,\n",
    "                             src_epsg=src_epsg, dst_epsg=dst_epsg)\n",
    "    \n",
    "    # Execute the command in the terminal\n",
    "    print(cmd)\n",
    "    os.system(cmd)\n"
   ]
  },
  {
   "cell_type": "code",
   "execution_count": 4,
   "metadata": {},
   "outputs": [
    {
     "name": "stdout",
     "output_type": "stream",
     "text": [
      "Creating output file that is 10980P x 10980L.\n",
      "Processing SENTINEL2A_20221116-105900-865_L2A_T31TCJ_C_V3-1_FRE_B5.tif [1/1] : 0...10...20...30...40...50...60...70...80...90...100 - done.\n",
      "Creating output file that is 10980P x 10980L.\n",
      "Processing SENTINEL2A_20221116-105900-865_L2A_T31TCJ_C_V3-1_FRE_B6.tif [1/1] : 0...10...20...30...40...50...60...70...80...90...100 - done.\n",
      "Creating output file that is 10980P x 10980L.\n",
      "Processing SENTINEL2A_20221116-105900-865_L2A_T31TCJ_C_V3-1_FRE_B7.tif [1/1] : 0...10...20...30...40...50...60...70...80...90...100 - done.\n",
      "Creating output file that is 10980P x 10980L.\n",
      "Processing SENTINEL2A_20221116-105900-865_L2A_T31TCJ_C_V3-1_FRE_B8A.tif [1/1] : 0...10...20...30...40...50...60...70...80...90...100 - done.\n",
      "Creating output file that is 10980P x 10980L.\n",
      "Processing SENTINEL2A_20221116-105900-865_L2A_T31TCJ_C_V3-1_FRE_B11.tif [1/1] : 0...10...20...30...40...50...60...70...80...90...100 - done.\n",
      "Creating output file that is 10980P x 10980L.\n",
      "Processing SENTINEL2A_20221116-105900-865_L2A_T31TCJ_C_V3-1_FRE_B12.tif [1/1] : 0...10...20...30...40...50...60...70...80...90...100 - done.\n"
     ]
    }
   ],
   "source": [
    "bands = [2, 3, 4, 5, 6, 7, 8, '8A', 11, 12]\n",
    "\n",
    "img_all_band = []\n",
    "\n",
    "# Remplir le dictionnaire avec les valeurs des bandes\n",
    "for B in bands:\n",
    "    band_name = f'b{B}'  # Nom de la clé dynamique, 'b2', 'b3', ..., 'b12'\n",
    "    band_file = f'SENTINEL2A_20221116-105900-865_L2A_T31TCJ_C_V3-1_FRE_B{B}.tif'  # Nom du fichier\n",
    "    img = rw.open_image(band_file)\n",
    "    geotransform = img.GetGeoTransform()\n",
    "    if geotransform[1] !=10:\n",
    "        cmd_pattern = (\"gdalwarp \"\n",
    "                    \"-r near \"\n",
    "                    \"-tr 10 10 \"\n",
    "                    \"-of GTiff \"\n",
    "                    \"{band_file} {band_file_10}\")\n",
    "\n",
    "        # Fill the string with the parameters using format function\n",
    "        cmd = cmd_pattern.format(band_file=band_file, band_file_10=f'{band_file}_10')\n",
    "        \n",
    "        # Execute the command in the terminal\n",
    "        os.system(cmd)\n",
    "        img_all_band.append(rw.load_img_as_array(f'{band_file}_10'))\n",
    "    else : \n",
    "        img_all_band.append(rw.load_img_as_array(band_file))\n",
    "\n"
   ]
  },
  {
   "cell_type": "code",
   "execution_count": 8,
   "metadata": {},
   "outputs": [
    {
     "name": "stdout",
     "output_type": "stream",
     "text": [
      "gdalwarp -s_srs EPSG:32631 -t_srs EPSG:2154 -r near -of GTiff concat.tif Serie_temp_S2_allbands.tif\n",
      "Creating output file that is 10992P x 10991L.\n",
      "Processing concat.tif [1/1] : 0...10...20...30...40...50...60...70...80...90...100 - done.\n"
     ]
    }
   ],
   "source": [
    "img = np.concatenate(img_all_band,axis=-1)\n",
    "output_img = 'concat.tif'\n",
    "data_set = rw.open_image('SENTINEL2A_20221116-105900-865_L2A_T31TCJ_C_V3-1_FRE_B2.tif')\n",
    "rw.write_image(output_img, img, data_set=data_set)\n",
    "output_raster = 'Serie_temp_S2_allbands.tif'\n",
    "src_epsg = 32631  # EPSG 32632 (UTM zone 32N)\n",
    "dst_epsg = 2154   # EPSG 2154 (RGF93 / Lambert-93)\n",
    "\n",
    "reproject_raster(output_img, output_raster, src_epsg, dst_epsg)"
   ]
  }
 ],
 "metadata": {
  "kernelspec": {
   "display_name": "base",
   "language": "python",
   "name": "python3"
  },
  "language_info": {
   "codemirror_mode": {
    "name": "ipython",
    "version": 3
   },
   "file_extension": ".py",
   "mimetype": "text/x-python",
   "name": "python",
   "nbconvert_exporter": "python",
   "pygments_lexer": "ipython3",
   "version": "3.12.6"
  }
 },
 "nbformat": 4,
 "nbformat_minor": 2
}
