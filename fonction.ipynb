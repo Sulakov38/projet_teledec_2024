{
 "cells": [
  {
   "cell_type": "code",
   "execution_count": 1,
   "id": "f086d31e-7470-4edb-ba0f-eb038d4a8a27",
   "metadata": {},
   "outputs": [],
   "source": [
    "import geopandas as gpd\n",
    "def code_vege(shapefile_path_vege,shapefile_path_emprise,output_path):\n",
    "   \n",
    "    # Charger le fichier shapefile\n",
    "    gdf_vegetation = gpd.read_file(shapefile_path_vege)\n",
    "    gdf_emprise = gpd.read_file(shapefile_path_emprise)\n",
    "    \n",
    "    # Ajouter les champs \"nom\" et \"code\" avec des valeurs par défaut\n",
    "    gdf_vegetation['nom'] = None\n",
    "    gdf_vegetation['code'] = None\n",
    "    \n",
    "   \n",
    "    # Création d'un dictionnaire pour mapper les valeurs de 'TFV' aux colonnes 'nom' et 'code'\n",
    "    mapping = {\n",
    "        \"FF1-49-49\": (\"Autres feuillus\", \"11\"),\n",
    "        \"FF1-10-10\": (\"Autres feuillus\", \"11\"),\n",
    "        \"FF1-09-09\": (\"Autres feuillus\", \"11\"),\n",
    "        \"FF1G01-01\": (\"chêne\", \"12\"),\n",
    "        \"FF1-14-14\": (\"Robinier\", \"13\"),\n",
    "        \"FP\": (\"Peupleraie\", \"14\"),\n",
    "        \"FF1-00-00\": (\"Mélange de feuillus\", \"15\"), \n",
    "        \"FF1-00\": (\"Feuillus en îlots\", \"16\"),\n",
    "        \"FF2-91-91\": (\"Autres conifères autre que pin\", \"21\"),\n",
    "        \"FF2-63-63\": (\"Autres conifères autre que pin\", \"21\"),\n",
    "        \"FF2G61-61\": (\"Autres conifères autre que pin\", \"21\"),\n",
    "        \"FF2-90-90\": (\"Autres conifères autre que pin\", \"21\"),\n",
    "        \"FF2-81-81\": (\"Autres Pin\", \"22\"),\n",
    "        \"FF2-52-52\": (\"Autres Pin\", \"22\"),\n",
    "        \"FF2-80-80\": (\"Autres Pin\", \"22\"),\n",
    "        \"FF2-64-64\": (\"douglas\", \"23\"),\n",
    "        \"FF2G53-53\": (\"Pin laricio ou pin noir\", \"24\"),\n",
    "        \"FF2-51-51\": (\"Pin maritime\", \"25\"),\n",
    "        \"FF2-00-00\": (\"Mélange conifères\", \"26\"),\n",
    "        \"FF2-00\": (\"Conifères en îlots\", \"27\"),\n",
    "        \"FF32\": (\"Mélange de conifères prépondérants et feuillus\", \"28\"),\n",
    "        \"FF31\": (\"Mélange de feuillus prépondérants et conifères\", \"29\"),\n",
    "    }\n",
    "    \n",
    "    # Application des valeurs du mapping\n",
    "    gdf_vegetation['nom'] = gdf_vegetation['CODE_TFV'].map(lambda x: mapping[x][0] if x in mapping else None)\n",
    "    gdf_vegetation['code'] = gdf_vegetation['CODE_TFV'].map(lambda x: mapping[x][1] if x in mapping else None)\n",
    "    \n",
    "    gdf_vegetation = gdf_vegetation.dropna(subset=['code'])\n",
    "    \n",
    "    \n",
    "    vege_emprise = gpd.clip(gdf_vegetation, gdf_emprise)\n",
    "    # Sauvegarder les modifications dans un nouveau fichier (ou remplacer l'original)\n",
    "    \n",
    "    vege_emprise.to_file(output_path)"
   ]
  },
  {
   "cell_type": "code",
   "execution_count": 3,
   "id": "f7db51d0-1043-4549-beb1-87c3fea26c28",
   "metadata": {},
   "outputs": [],
   "source": [
    "shapefile_path_vege = '../data/project/FORMATION_VEGETALE.shp'\n",
    "shapefile_path_emprise = '../data/project/emprise_etude.shp'\n",
    "output_path = 'Sample_BD_foret_T31TCJ.shp'\n",
    "code_vege(shapefile_path_vege,shapefile_path_emprise,output_path)"
   ]
  },
  {
   "cell_type": "code",
   "execution_count": 5,
   "id": "92ea3d5d-fe5d-4781-aefa-697e63ff4a9e",
   "metadata": {},
   "outputs": [],
   "source": [
    "import sys\n",
    "sys.path.append('../libsigma/')\n",
    "import os\n",
    "import read_and_write as rw\n",
    "def rasterize(in_vector,out_image,field_name,sptial_resolution):\n",
    "\n",
    "  # define command pattern to fill with paremeters\n",
    "  cmd_pattern = (\"gdal_rasterize -a {field_name} \"\n",
    "                 \"-tr {sptial_resolution} {sptial_resolution} \"\n",
    "                 \"-ot Byte -of GTiff \"\n",
    "                 \"-a_nodata 0 \"\n",
    "                 \"{in_vector} {out_image}\")\n",
    "  \n",
    "  # fill the string with the parameter thanks to format function\n",
    "  cmd = cmd_pattern.format(in_vector=in_vector, out_image=out_image, field_name=field_name,\n",
    "                           sptial_resolution=sptial_resolution)\n",
    "  \n",
    "  # execute the command in the terminal\n",
    "  print(cmd)\n",
    "  os.system(cmd)"
   ]
  },
  {
   "cell_type": "code",
   "execution_count": 7,
   "id": "b726bf90-55c6-4fa3-a695-9fc07a8f3839",
   "metadata": {},
   "outputs": [
    {
     "name": "stdout",
     "output_type": "stream",
     "text": [
      "gdal_rasterize -a code -tr 10.0 10.0 -ot Byte -of GTiff -a_nodata 0 Sample_BD_foret_T31TCJ.shp raster.tif\n",
      "0...10...20...30...40...50...60...70...80...90...100 - done.\n"
     ]
    }
   ],
   "source": [
    "in_vector = 'Sample_BD_foret_T31TCJ.shp'\n",
    "out_image = 'raster.tif'\n",
    "field_name = 'code'\n",
    "sptial_resolution = 10.0\n",
    "rasterize(in_vector,out_image,field_name,sptial_resolution)"
   ]
  },
  {
   "cell_type": "code",
   "execution_count": 8,
   "id": "a48109fb-5eb3-46ff-8e45-884fd6621971",
   "metadata": {},
   "outputs": [],
   "source": [
    "def masque(input_image,output_masque):\n",
    "    data_set = rw.open_image(input_image)\n",
    "    img = rw.load_img_as_array(input_image)\n",
    "    \n",
    "    \n",
    "    # do some processingwith numpy: build a mask\n",
    "    nb_ligne, nb_col, nb_band = rw.get_image_dimension(data_set)\n",
    "    masque_foret = img != 0\n",
    "    \n",
    "    # write it\n",
    "    rw.write_image(output_masque, masque_foret, data_set=data_set,\n",
    "                gdal_dtype=data_type_match['uint8'])"
   ]
  },
  {
   "cell_type": "code",
   "execution_count": 9,
   "id": "48a84be8-bb24-40ec-a619-4edd17883ac2",
   "metadata": {},
   "outputs": [
    {
     "name": "stderr",
     "output_type": "stream",
     "text": [
      "/opt/conda/lib/python3.12/site-packages/osgeo/gdal.py:312: FutureWarning: Neither gdal.UseExceptions() nor gdal.DontUseExceptions() has been explicitly called. In GDAL 4.0, exceptions will be enabled by default.\n",
      "  warnings.warn(\n"
     ]
    }
   ],
   "source": [
    "from osgeo import gdal\n",
    "data_type_match = {'uint8': gdal.GDT_Byte,\n",
    "                   'uint16': gdal.GDT_UInt16,\n",
    "                   'uint32': gdal.GDT_UInt32,\n",
    "                   'int16': gdal.GDT_Int16,\n",
    "                   'int32': gdal.GDT_Int32,\n",
    "                   'float32': gdal.GDT_Float32,\n",
    "                   'float64': gdal.GDT_Float64}\n",
    "input_image = 'raster.tif'\n",
    "output_masque = 'masque_foret.tif'\n",
    "masque(input_image,output_masque)"
   ]
  },
  {
   "cell_type": "code",
   "execution_count": null,
   "id": "eaa39970-9e47-4fbb-9eea-982995ff4c88",
   "metadata": {},
   "outputs": [],
   "source": []
  }
 ],
 "metadata": {
  "kernelspec": {
   "display_name": "base",
   "language": "python",
   "name": "python3"
  },
  "language_info": {
   "codemirror_mode": {
    "name": "ipython",
    "version": 3
   },
   "file_extension": ".py",
   "mimetype": "text/x-python",
   "name": "python",
   "nbconvert_exporter": "python",
   "pygments_lexer": "ipython3",
   "version": "3.12.6"
  }
 },
 "nbformat": 4,
 "nbformat_minor": 5
}
