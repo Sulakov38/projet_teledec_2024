{
 "cells": [
  {
   "cell_type": "code",
   "execution_count": 1,
   "id": "a3f1dc90",
   "metadata": {},
   "outputs": [],
   "source": [
    "import sys\n",
    "sys.path.append('libsigma/')\n",
    "import os\n",
    "import read_and_write as rw\n",
    "import geopandas as gpd\n",
    "import numpy as np"
   ]
  },
  {
   "cell_type": "code",
   "execution_count": 1,
   "id": "f086d31e-7470-4edb-ba0f-eb038d4a8a27",
   "metadata": {},
   "outputs": [],
   "source": [
    "def code_vege(shapefile_path_vege,shapefile_path_emprise,output_path):\n",
    "   \n",
    "    # Charger le fichier shapefile\n",
    "    gdf_vegetation = gpd.read_file(shapefile_path_vege)\n",
    "    gdf_emprise = gpd.read_file(shapefile_path_emprise)\n",
    "    \n",
    "    # Ajouter les champs \"nom\" et \"code\" avec des valeurs par défaut\n",
    "    gdf_vegetation['nom'] = None\n",
    "    gdf_vegetation['code'] = None\n",
    "    \n",
    "   \n",
    "    # Création d'un dictionnaire pour mapper les valeurs de 'TFV' aux colonnes 'nom' et 'code'\n",
    "    mapping = {\n",
    "        \"FF1-49-49\": (\"Autres feuillus\", \"11\"),\n",
    "        \"FF1-10-10\": (\"Autres feuillus\", \"11\"),\n",
    "        \"FF1-09-09\": (\"Autres feuillus\", \"11\"),\n",
    "        \"FF1G01-01\": (\"Chêne\", \"12\"),\n",
    "        \"FF1-14-14\": (\"Robinier\", \"13\"),\n",
    "        \"FP\": (\"Peupleraie\", \"14\"),\n",
    "        \"FF1-00-00\": (\"Mélange de feuillus\", \"15\"), \n",
    "        \"FF1-00\": (\"Feuillus en îlots\", \"16\"),\n",
    "        \"FF2-91-91\": (\"Autres conifères autre que pin\", \"21\"),\n",
    "        \"FF2-63-63\": (\"Autres conifères autre que pin\", \"21\"),\n",
    "        \"FF2G61-61\": (\"Autres conifères autre que pin\", \"21\"),\n",
    "        \"FF2-90-90\": (\"Autres conifères autre que pin\", \"21\"),\n",
    "        \"FF2-81-81\": (\"Autres Pin\", \"22\"),\n",
    "        \"FF2-52-52\": (\"Autres Pin\", \"22\"),\n",
    "        \"FF2-80-80\": (\"Autres Pin\", \"22\"),\n",
    "        \"FF2-64-64\": (\"Douglas\", \"23\"),\n",
    "        \"FF2G53-53\": (\"Pin laricio ou pin noir\", \"24\"),\n",
    "        \"FF2-51-51\": (\"Pin maritime\", \"25\"),\n",
    "        \"FF2-00-00\": (\"Mélange conifères\", \"26\"),\n",
    "        \"FF2-00\": (\"Conifères en îlots\", \"27\"),\n",
    "        \"FF32\": (\"Mélange de conifères prépondérants et feuillus\", \"28\"),\n",
    "        \"FF31\": (\"Mélange de feuillus prépondérants et conifères\", \"29\"),\n",
    "    }\n",
    "    \n",
    "    # Application des valeurs du mapping\n",
    "    gdf_vegetation['nom'] = gdf_vegetation['CODE_TFV'].map(lambda x: mapping[x][0] if x in mapping else None)\n",
    "    gdf_vegetation['code'] = gdf_vegetation['CODE_TFV'].map(lambda x: mapping[x][1] if x in mapping else None)\n",
    "    \n",
    "    gdf_vegetation = gdf_vegetation.dropna(subset=['code'])\n",
    "    \n",
    "    \n",
    "    vege_emprise = gpd.clip(gdf_vegetation, gdf_emprise)\n",
    "    # Sauvegarder les modifications dans un nouveau fichier (ou remplacer l'original)\n",
    "    \n",
    "    vege_emprise.to_file(output_path)"
   ]
  },
  {
   "cell_type": "code",
   "execution_count": 3,
   "id": "f7db51d0-1043-4549-beb1-87c3fea26c28",
   "metadata": {},
   "outputs": [],
   "source": [
    "shapefile_path_vege = 'data/project/FORMATION_VEGETALE.shp'\n",
    "shapefile_path_emprise = 'data/project/emprise_etude.shp'\n",
    "output_path = 'Sample_BD_foret_T31TCJ.shp'\n",
    "code_vege(shapefile_path_vege,shapefile_path_emprise,output_path)"
   ]
  },
  {
   "cell_type": "code",
   "execution_count": 2,
   "id": "92ea3d5d-fe5d-4781-aefa-697e63ff4a9e",
   "metadata": {},
   "outputs": [],
   "source": [
    "def rasterize(in_vector,out_image,field_name,sptial_resolution):\n",
    "\n",
    "  # define command pattern to fill with paremeters\n",
    "  cmd_pattern = (\"gdal_rasterize -a {field_name} \"\n",
    "                 \"-tr {sptial_resolution} {sptial_resolution} \"\n",
    "                 \"-ot Byte -of GTiff \"\n",
    "                 \"-a_nodata 0 \"\n",
    "                 \"{in_vector} {out_image}\")\n",
    "  \n",
    "  # fill the string with the parameter thanks to format function\n",
    "  cmd = cmd_pattern.format(in_vector=in_vector, out_image=out_image, field_name=field_name,\n",
    "                           sptial_resolution=sptial_resolution)\n",
    "  \n",
    "  # execute the command in the terminal\n",
    "  print(cmd)\n",
    "  os.system(cmd)"
   ]
  },
  {
   "cell_type": "code",
   "execution_count": 5,
   "id": "b726bf90-55c6-4fa3-a695-9fc07a8f3839",
   "metadata": {},
   "outputs": [
    {
     "name": "stdout",
     "output_type": "stream",
     "text": [
      "gdal_rasterize -a code -tr 10.0 10.0 -ot Byte -of GTiff -a_nodata 0 Sample_BD_foret_T31TCJ.shp raster.tif\n"
     ]
    }
   ],
   "source": [
    "in_vector = 'Sample_BD_foret_T31TCJ.shp'\n",
    "out_image = 'raster.tif'\n",
    "field_name = 'code'\n",
    "sptial_resolution = 10.0\n",
    "rasterize(in_vector,out_image,field_name,sptial_resolution)"
   ]
  },
  {
   "cell_type": "code",
   "execution_count": 6,
   "id": "a48109fb-5eb3-46ff-8e45-884fd6621971",
   "metadata": {},
   "outputs": [],
   "source": [
    "def masque(input_image,output_masque):\n",
    "    data_set = rw.open_image(input_image)\n",
    "    img = rw.load_img_as_array(input_image)\n",
    "    \n",
    "    \n",
    "    # do some processingwith numpy: build a mask\n",
    "    nb_ligne, nb_col, nb_band = rw.get_image_dimension(data_set)\n",
    "    masque_foret = img != 0\n",
    "    \n",
    "    # write it\n",
    "    rw.write_image(output_masque, masque_foret, data_set=data_set,\n",
    "                gdal_dtype=data_type_match['uint8'])"
   ]
  },
  {
   "cell_type": "code",
   "execution_count": 7,
   "id": "48a84be8-bb24-40ec-a619-4edd17883ac2",
   "metadata": {},
   "outputs": [
    {
     "name": "stderr",
     "output_type": "stream",
     "text": [
      "C:\\Users\\pabra\\AppData\\Local\\Packages\\PythonSoftwareFoundation.Python.3.12_qbz5n2kfra8p0\\LocalCache\\local-packages\\Python312\\site-packages\\osgeo\\gdal.py:312: FutureWarning: Neither gdal.UseExceptions() nor gdal.DontUseExceptions() has been explicitly called. In GDAL 4.0, exceptions will be enabled by default.\n",
      "  warnings.warn(\n"
     ]
    }
   ],
   "source": [
    "data_type_match = {'uint8': gdal.GDT_Byte,\n",
    "                   'uint16': gdal.GDT_UInt16,\n",
    "                   'uint32': gdal.GDT_UInt32,\n",
    "                   'int16': gdal.GDT_Int16,\n",
    "                   'int32': gdal.GDT_Int32,\n",
    "                   'float32': gdal.GDT_Float32,\n",
    "                   'float64': gdal.GDT_Float64}\n",
    "input_image = 'raster.tif'\n",
    "output_masque = 'masque_foret.tif'\n",
    "masque(input_image,output_masque)"
   ]
  },
  {
   "cell_type": "code",
   "execution_count": null,
   "id": "eaa39970-9e47-4fbb-9eea-982995ff4c88",
   "metadata": {},
   "outputs": [
    {
     "name": "stdout",
     "output_type": "stream",
     "text": [
      "gdal_rasterize -a rasterize -tr 10.0 10.0 -ot Byte -of GTiff -a_nodata 0 data/project/emprise_etude.shp data/project/emprise.tif\n"
     ]
    }
   ],
   "source": [
    "input_emprise = 'data/project/emprise_etude.shp'\n",
    "gdf = gpd.read_file(input_emprise)\n",
    "gdf['rasterize'] = 1.0\n",
    "field_name = 'rasterize'\n",
    "output_emprise = 'data/project/emprise.tif'\n",
    "sptial_resolution = 10.0\n",
    "rasterize(input_emprise,output_emprise,field_name,sptial_resolution)"
   ]
  },
  {
   "cell_type": "code",
   "execution_count": 3,
   "id": "f2877630",
   "metadata": {},
   "outputs": [],
   "source": [
    "def reproject_raster(minx,miny,maxx,maxy,input_raster, output_raster, src_epsg, dst_epsg):\n",
    "    # Define the command pattern to fill with parameters\n",
    "    cmd_pattern = (\"gdalwarp -s_srs EPSG:{src_epsg} \"\n",
    "                    \"-t_srs EPSG:{dst_epsg} \"\n",
    "                    \"-te {minx} {miny} {maxx} {maxy} -te_srs EPSG:{dst_epsg} \"\n",
    "                    \"-tr 10 10 \"\n",
    "                    \"-r near \"\n",
    "                    \"-of GTiff \"\n",
    "                    \"{input_raster} {output_raster}\")\n",
    "    \n",
    "    # Fill the string with the parameters using format function\n",
    "    cmd = cmd_pattern.format(minx=minx,miny=miny,maxx=maxx,maxy=maxy,input_raster=input_raster, output_raster=output_raster,\n",
    "                             src_epsg=src_epsg, dst_epsg=dst_epsg)\n",
    "    \n",
    "    # Execute the command in the terminal\n",
    "    print(cmd)\n",
    "    os.system(cmd)"
   ]
  },
  {
   "cell_type": "code",
   "execution_count": 15,
   "id": "d38c46f8",
   "metadata": {},
   "outputs": [],
   "source": [
    "def preparation(releves,bands,emprise,liste_img):\n",
    "    suffixe = '.tif'\n",
    "    gdf = gpd.read_file(emprise)\n",
    "    gdf['rasterize'] = 1.0\n",
    "    field_name = 'rasterize'\n",
    "    output_emprise = 'data/project/emprise.tif'\n",
    "    sptial_resolution = 10.0\n",
    "    rasterize(emprise,output_emprise,field_name,sptial_resolution)\n",
    "    dataset = rw.open_image(output_emprise)\n",
    "    geotransform = dataset.GetGeoTransform()\n",
    "    minx = geotransform[0]  # Origine X\n",
    "    maxy = geotransform[3]  # Origine Y\n",
    "    maxx = minx + geotransform[1] * dataset.RasterXSize  \n",
    "    miny = maxy + geotransform[5] * dataset.RasterYSize  \n",
    "    src_epsg = 32631  # EPSG 32632 (UTM zone 32N)\n",
    "    dst_epsg = 2154   # EPSG 2154 (RGF93 / Lambert-93)\n",
    "    for r in releves:\n",
    "        for B in bands:\n",
    "            band_name = f'data/images/SENTINEL2{r}{B}'\n",
    "            band_file = f'{band_name}{suffixe}'  # Nom du fichier\n",
    "            output_filename = f\"{band_name}_10_2154{suffixe}\"\n",
    "            reproject_raster(minx,miny,maxx,maxy,band_file,output_filename,src_epsg,dst_epsg)\n",
    "            liste_img.append(rw.load_img_as_array(output_filename))"
   ]
  },
  {
   "cell_type": "code",
   "execution_count": 16,
   "id": "5fe2b8b8",
   "metadata": {},
   "outputs": [
    {
     "name": "stdout",
     "output_type": "stream",
     "text": [
      "gdal_rasterize -a rasterize -tr 10.0 10.0 -ot Byte -of GTiff -a_nodata 0 data/project/emprise_etude.shp data/project/emprise.tif\n",
      "gdalwarp -s_srs EPSG:32631 -t_srs EPSG:2154 -te 501122.9697 6240649.0236 609762.9697 6314469.0236 -te_srs EPSG:2154 -tr 10 10 -r near -of GTiff data/images/SENTINEL2B_20220326-105856-076_L2A_T31TCJ_C_V3-0_FRE_B2.tif data/images/SENTINEL2B_20220326-105856-076_L2A_T31TCJ_C_V3-0_FRE_B2_10_2154.tif\n",
      "gdalwarp -s_srs EPSG:32631 -t_srs EPSG:2154 -te 501122.9697 6240649.0236 609762.9697 6314469.0236 -te_srs EPSG:2154 -tr 10 10 -r near -of GTiff data/images/SENTINEL2B_20220326-105856-076_L2A_T31TCJ_C_V3-0_FRE_B3.tif data/images/SENTINEL2B_20220326-105856-076_L2A_T31TCJ_C_V3-0_FRE_B3_10_2154.tif\n",
      "gdalwarp -s_srs EPSG:32631 -t_srs EPSG:2154 -te 501122.9697 6240649.0236 609762.9697 6314469.0236 -te_srs EPSG:2154 -tr 10 10 -r near -of GTiff data/images/SENTINEL2B_20220326-105856-076_L2A_T31TCJ_C_V3-0_FRE_B4.tif data/images/SENTINEL2B_20220326-105856-076_L2A_T31TCJ_C_V3-0_FRE_B4_10_2154.tif\n",
      "gdalwarp -s_srs EPSG:32631 -t_srs EPSG:2154 -te 501122.9697 6240649.0236 609762.9697 6314469.0236 -te_srs EPSG:2154 -tr 10 10 -r near -of GTiff data/images/SENTINEL2B_20220326-105856-076_L2A_T31TCJ_C_V3-0_FRE_B5.tif data/images/SENTINEL2B_20220326-105856-076_L2A_T31TCJ_C_V3-0_FRE_B5_10_2154.tif\n",
      "gdalwarp -s_srs EPSG:32631 -t_srs EPSG:2154 -te 501122.9697 6240649.0236 609762.9697 6314469.0236 -te_srs EPSG:2154 -tr 10 10 -r near -of GTiff data/images/SENTINEL2B_20220326-105856-076_L2A_T31TCJ_C_V3-0_FRE_B6.tif data/images/SENTINEL2B_20220326-105856-076_L2A_T31TCJ_C_V3-0_FRE_B6_10_2154.tif\n",
      "gdalwarp -s_srs EPSG:32631 -t_srs EPSG:2154 -te 501122.9697 6240649.0236 609762.9697 6314469.0236 -te_srs EPSG:2154 -tr 10 10 -r near -of GTiff data/images/SENTINEL2B_20220326-105856-076_L2A_T31TCJ_C_V3-0_FRE_B7.tif data/images/SENTINEL2B_20220326-105856-076_L2A_T31TCJ_C_V3-0_FRE_B7_10_2154.tif\n",
      "gdalwarp -s_srs EPSG:32631 -t_srs EPSG:2154 -te 501122.9697 6240649.0236 609762.9697 6314469.0236 -te_srs EPSG:2154 -tr 10 10 -r near -of GTiff data/images/SENTINEL2B_20220326-105856-076_L2A_T31TCJ_C_V3-0_FRE_B8.tif data/images/SENTINEL2B_20220326-105856-076_L2A_T31TCJ_C_V3-0_FRE_B8_10_2154.tif\n",
      "gdalwarp -s_srs EPSG:32631 -t_srs EPSG:2154 -te 501122.9697 6240649.0236 609762.9697 6314469.0236 -te_srs EPSG:2154 -tr 10 10 -r near -of GTiff data/images/SENTINEL2B_20220326-105856-076_L2A_T31TCJ_C_V3-0_FRE_B8A.tif data/images/SENTINEL2B_20220326-105856-076_L2A_T31TCJ_C_V3-0_FRE_B8A_10_2154.tif\n",
      "gdalwarp -s_srs EPSG:32631 -t_srs EPSG:2154 -te 501122.9697 6240649.0236 609762.9697 6314469.0236 -te_srs EPSG:2154 -tr 10 10 -r near -of GTiff data/images/SENTINEL2B_20220326-105856-076_L2A_T31TCJ_C_V3-0_FRE_B11.tif data/images/SENTINEL2B_20220326-105856-076_L2A_T31TCJ_C_V3-0_FRE_B11_10_2154.tif\n",
      "gdalwarp -s_srs EPSG:32631 -t_srs EPSG:2154 -te 501122.9697 6240649.0236 609762.9697 6314469.0236 -te_srs EPSG:2154 -tr 10 10 -r near -of GTiff data/images/SENTINEL2B_20220326-105856-076_L2A_T31TCJ_C_V3-0_FRE_B12.tif data/images/SENTINEL2B_20220326-105856-076_L2A_T31TCJ_C_V3-0_FRE_B12_10_2154.tif\n",
      "gdalwarp -s_srs EPSG:32631 -t_srs EPSG:2154 -te 501122.9697 6240649.0236 609762.9697 6314469.0236 -te_srs EPSG:2154 -tr 10 10 -r near -of GTiff data/images/SENTINEL2B_20220405-105855-542_L2A_T31TCJ_C_V3-0_FRE_B2.tif data/images/SENTINEL2B_20220405-105855-542_L2A_T31TCJ_C_V3-0_FRE_B2_10_2154.tif\n",
      "gdalwarp -s_srs EPSG:32631 -t_srs EPSG:2154 -te 501122.9697 6240649.0236 609762.9697 6314469.0236 -te_srs EPSG:2154 -tr 10 10 -r near -of GTiff data/images/SENTINEL2B_20220405-105855-542_L2A_T31TCJ_C_V3-0_FRE_B3.tif data/images/SENTINEL2B_20220405-105855-542_L2A_T31TCJ_C_V3-0_FRE_B3_10_2154.tif\n",
      "gdalwarp -s_srs EPSG:32631 -t_srs EPSG:2154 -te 501122.9697 6240649.0236 609762.9697 6314469.0236 -te_srs EPSG:2154 -tr 10 10 -r near -of GTiff data/images/SENTINEL2B_20220405-105855-542_L2A_T31TCJ_C_V3-0_FRE_B4.tif data/images/SENTINEL2B_20220405-105855-542_L2A_T31TCJ_C_V3-0_FRE_B4_10_2154.tif\n",
      "gdalwarp -s_srs EPSG:32631 -t_srs EPSG:2154 -te 501122.9697 6240649.0236 609762.9697 6314469.0236 -te_srs EPSG:2154 -tr 10 10 -r near -of GTiff data/images/SENTINEL2B_20220405-105855-542_L2A_T31TCJ_C_V3-0_FRE_B5.tif data/images/SENTINEL2B_20220405-105855-542_L2A_T31TCJ_C_V3-0_FRE_B5_10_2154.tif\n",
      "gdalwarp -s_srs EPSG:32631 -t_srs EPSG:2154 -te 501122.9697 6240649.0236 609762.9697 6314469.0236 -te_srs EPSG:2154 -tr 10 10 -r near -of GTiff data/images/SENTINEL2B_20220405-105855-542_L2A_T31TCJ_C_V3-0_FRE_B6.tif data/images/SENTINEL2B_20220405-105855-542_L2A_T31TCJ_C_V3-0_FRE_B6_10_2154.tif\n",
      "gdalwarp -s_srs EPSG:32631 -t_srs EPSG:2154 -te 501122.9697 6240649.0236 609762.9697 6314469.0236 -te_srs EPSG:2154 -tr 10 10 -r near -of GTiff data/images/SENTINEL2B_20220405-105855-542_L2A_T31TCJ_C_V3-0_FRE_B7.tif data/images/SENTINEL2B_20220405-105855-542_L2A_T31TCJ_C_V3-0_FRE_B7_10_2154.tif\n",
      "gdalwarp -s_srs EPSG:32631 -t_srs EPSG:2154 -te 501122.9697 6240649.0236 609762.9697 6314469.0236 -te_srs EPSG:2154 -tr 10 10 -r near -of GTiff data/images/SENTINEL2B_20220405-105855-542_L2A_T31TCJ_C_V3-0_FRE_B8.tif data/images/SENTINEL2B_20220405-105855-542_L2A_T31TCJ_C_V3-0_FRE_B8_10_2154.tif\n",
      "gdalwarp -s_srs EPSG:32631 -t_srs EPSG:2154 -te 501122.9697 6240649.0236 609762.9697 6314469.0236 -te_srs EPSG:2154 -tr 10 10 -r near -of GTiff data/images/SENTINEL2B_20220405-105855-542_L2A_T31TCJ_C_V3-0_FRE_B8A.tif data/images/SENTINEL2B_20220405-105855-542_L2A_T31TCJ_C_V3-0_FRE_B8A_10_2154.tif\n",
      "gdalwarp -s_srs EPSG:32631 -t_srs EPSG:2154 -te 501122.9697 6240649.0236 609762.9697 6314469.0236 -te_srs EPSG:2154 -tr 10 10 -r near -of GTiff data/images/SENTINEL2B_20220405-105855-542_L2A_T31TCJ_C_V3-0_FRE_B11.tif data/images/SENTINEL2B_20220405-105855-542_L2A_T31TCJ_C_V3-0_FRE_B11_10_2154.tif\n",
      "gdalwarp -s_srs EPSG:32631 -t_srs EPSG:2154 -te 501122.9697 6240649.0236 609762.9697 6314469.0236 -te_srs EPSG:2154 -tr 10 10 -r near -of GTiff data/images/SENTINEL2B_20220405-105855-542_L2A_T31TCJ_C_V3-0_FRE_B12.tif data/images/SENTINEL2B_20220405-105855-542_L2A_T31TCJ_C_V3-0_FRE_B12_10_2154.tif\n",
      "gdalwarp -s_srs EPSG:32631 -t_srs EPSG:2154 -te 501122.9697 6240649.0236 609762.9697 6314469.0236 -te_srs EPSG:2154 -tr 10 10 -r near -of GTiff data/images/SENTINEL2B_20220803-105903-336_L2A_T31TCJ_C_V3-0_FRE_B2.tif data/images/SENTINEL2B_20220803-105903-336_L2A_T31TCJ_C_V3-0_FRE_B2_10_2154.tif\n",
      "gdalwarp -s_srs EPSG:32631 -t_srs EPSG:2154 -te 501122.9697 6240649.0236 609762.9697 6314469.0236 -te_srs EPSG:2154 -tr 10 10 -r near -of GTiff data/images/SENTINEL2B_20220803-105903-336_L2A_T31TCJ_C_V3-0_FRE_B3.tif data/images/SENTINEL2B_20220803-105903-336_L2A_T31TCJ_C_V3-0_FRE_B3_10_2154.tif\n",
      "gdalwarp -s_srs EPSG:32631 -t_srs EPSG:2154 -te 501122.9697 6240649.0236 609762.9697 6314469.0236 -te_srs EPSG:2154 -tr 10 10 -r near -of GTiff data/images/SENTINEL2B_20220803-105903-336_L2A_T31TCJ_C_V3-0_FRE_B4.tif data/images/SENTINEL2B_20220803-105903-336_L2A_T31TCJ_C_V3-0_FRE_B4_10_2154.tif\n",
      "gdalwarp -s_srs EPSG:32631 -t_srs EPSG:2154 -te 501122.9697 6240649.0236 609762.9697 6314469.0236 -te_srs EPSG:2154 -tr 10 10 -r near -of GTiff data/images/SENTINEL2B_20220803-105903-336_L2A_T31TCJ_C_V3-0_FRE_B5.tif data/images/SENTINEL2B_20220803-105903-336_L2A_T31TCJ_C_V3-0_FRE_B5_10_2154.tif\n",
      "gdalwarp -s_srs EPSG:32631 -t_srs EPSG:2154 -te 501122.9697 6240649.0236 609762.9697 6314469.0236 -te_srs EPSG:2154 -tr 10 10 -r near -of GTiff data/images/SENTINEL2B_20220803-105903-336_L2A_T31TCJ_C_V3-0_FRE_B6.tif data/images/SENTINEL2B_20220803-105903-336_L2A_T31TCJ_C_V3-0_FRE_B6_10_2154.tif\n",
      "gdalwarp -s_srs EPSG:32631 -t_srs EPSG:2154 -te 501122.9697 6240649.0236 609762.9697 6314469.0236 -te_srs EPSG:2154 -tr 10 10 -r near -of GTiff data/images/SENTINEL2B_20220803-105903-336_L2A_T31TCJ_C_V3-0_FRE_B7.tif data/images/SENTINEL2B_20220803-105903-336_L2A_T31TCJ_C_V3-0_FRE_B7_10_2154.tif\n",
      "gdalwarp -s_srs EPSG:32631 -t_srs EPSG:2154 -te 501122.9697 6240649.0236 609762.9697 6314469.0236 -te_srs EPSG:2154 -tr 10 10 -r near -of GTiff data/images/SENTINEL2B_20220803-105903-336_L2A_T31TCJ_C_V3-0_FRE_B8.tif data/images/SENTINEL2B_20220803-105903-336_L2A_T31TCJ_C_V3-0_FRE_B8_10_2154.tif\n",
      "gdalwarp -s_srs EPSG:32631 -t_srs EPSG:2154 -te 501122.9697 6240649.0236 609762.9697 6314469.0236 -te_srs EPSG:2154 -tr 10 10 -r near -of GTiff data/images/SENTINEL2B_20220803-105903-336_L2A_T31TCJ_C_V3-0_FRE_B8A.tif data/images/SENTINEL2B_20220803-105903-336_L2A_T31TCJ_C_V3-0_FRE_B8A_10_2154.tif\n",
      "gdalwarp -s_srs EPSG:32631 -t_srs EPSG:2154 -te 501122.9697 6240649.0236 609762.9697 6314469.0236 -te_srs EPSG:2154 -tr 10 10 -r near -of GTiff data/images/SENTINEL2B_20220803-105903-336_L2A_T31TCJ_C_V3-0_FRE_B11.tif data/images/SENTINEL2B_20220803-105903-336_L2A_T31TCJ_C_V3-0_FRE_B11_10_2154.tif\n",
      "gdalwarp -s_srs EPSG:32631 -t_srs EPSG:2154 -te 501122.9697 6240649.0236 609762.9697 6314469.0236 -te_srs EPSG:2154 -tr 10 10 -r near -of GTiff data/images/SENTINEL2B_20220803-105903-336_L2A_T31TCJ_C_V3-0_FRE_B12.tif data/images/SENTINEL2B_20220803-105903-336_L2A_T31TCJ_C_V3-0_FRE_B12_10_2154.tif\n",
      "gdalwarp -s_srs EPSG:32631 -t_srs EPSG:2154 -te 501122.9697 6240649.0236 609762.9697 6314469.0236 -te_srs EPSG:2154 -tr 10 10 -r near -of GTiff data/images/SENTINEL2B_20221111-105858-090_L2A_T31TCJ_C_V3-1_FRE_B2.tif data/images/SENTINEL2B_20221111-105858-090_L2A_T31TCJ_C_V3-1_FRE_B2_10_2154.tif\n",
      "gdalwarp -s_srs EPSG:32631 -t_srs EPSG:2154 -te 501122.9697 6240649.0236 609762.9697 6314469.0236 -te_srs EPSG:2154 -tr 10 10 -r near -of GTiff data/images/SENTINEL2B_20221111-105858-090_L2A_T31TCJ_C_V3-1_FRE_B3.tif data/images/SENTINEL2B_20221111-105858-090_L2A_T31TCJ_C_V3-1_FRE_B3_10_2154.tif\n",
      "gdalwarp -s_srs EPSG:32631 -t_srs EPSG:2154 -te 501122.9697 6240649.0236 609762.9697 6314469.0236 -te_srs EPSG:2154 -tr 10 10 -r near -of GTiff data/images/SENTINEL2B_20221111-105858-090_L2A_T31TCJ_C_V3-1_FRE_B4.tif data/images/SENTINEL2B_20221111-105858-090_L2A_T31TCJ_C_V3-1_FRE_B4_10_2154.tif\n",
      "gdalwarp -s_srs EPSG:32631 -t_srs EPSG:2154 -te 501122.9697 6240649.0236 609762.9697 6314469.0236 -te_srs EPSG:2154 -tr 10 10 -r near -of GTiff data/images/SENTINEL2B_20221111-105858-090_L2A_T31TCJ_C_V3-1_FRE_B5.tif data/images/SENTINEL2B_20221111-105858-090_L2A_T31TCJ_C_V3-1_FRE_B5_10_2154.tif\n",
      "gdalwarp -s_srs EPSG:32631 -t_srs EPSG:2154 -te 501122.9697 6240649.0236 609762.9697 6314469.0236 -te_srs EPSG:2154 -tr 10 10 -r near -of GTiff data/images/SENTINEL2B_20221111-105858-090_L2A_T31TCJ_C_V3-1_FRE_B6.tif data/images/SENTINEL2B_20221111-105858-090_L2A_T31TCJ_C_V3-1_FRE_B6_10_2154.tif\n",
      "gdalwarp -s_srs EPSG:32631 -t_srs EPSG:2154 -te 501122.9697 6240649.0236 609762.9697 6314469.0236 -te_srs EPSG:2154 -tr 10 10 -r near -of GTiff data/images/SENTINEL2B_20221111-105858-090_L2A_T31TCJ_C_V3-1_FRE_B7.tif data/images/SENTINEL2B_20221111-105858-090_L2A_T31TCJ_C_V3-1_FRE_B7_10_2154.tif\n",
      "gdalwarp -s_srs EPSG:32631 -t_srs EPSG:2154 -te 501122.9697 6240649.0236 609762.9697 6314469.0236 -te_srs EPSG:2154 -tr 10 10 -r near -of GTiff data/images/SENTINEL2B_20221111-105858-090_L2A_T31TCJ_C_V3-1_FRE_B8.tif data/images/SENTINEL2B_20221111-105858-090_L2A_T31TCJ_C_V3-1_FRE_B8_10_2154.tif\n",
      "gdalwarp -s_srs EPSG:32631 -t_srs EPSG:2154 -te 501122.9697 6240649.0236 609762.9697 6314469.0236 -te_srs EPSG:2154 -tr 10 10 -r near -of GTiff data/images/SENTINEL2B_20221111-105858-090_L2A_T31TCJ_C_V3-1_FRE_B8A.tif data/images/SENTINEL2B_20221111-105858-090_L2A_T31TCJ_C_V3-1_FRE_B8A_10_2154.tif\n",
      "gdalwarp -s_srs EPSG:32631 -t_srs EPSG:2154 -te 501122.9697 6240649.0236 609762.9697 6314469.0236 -te_srs EPSG:2154 -tr 10 10 -r near -of GTiff data/images/SENTINEL2B_20221111-105858-090_L2A_T31TCJ_C_V3-1_FRE_B11.tif data/images/SENTINEL2B_20221111-105858-090_L2A_T31TCJ_C_V3-1_FRE_B11_10_2154.tif\n",
      "gdalwarp -s_srs EPSG:32631 -t_srs EPSG:2154 -te 501122.9697 6240649.0236 609762.9697 6314469.0236 -te_srs EPSG:2154 -tr 10 10 -r near -of GTiff data/images/SENTINEL2B_20221111-105858-090_L2A_T31TCJ_C_V3-1_FRE_B12.tif data/images/SENTINEL2B_20221111-105858-090_L2A_T31TCJ_C_V3-1_FRE_B12_10_2154.tif\n",
      "gdalwarp -s_srs EPSG:32631 -t_srs EPSG:2154 -te 501122.9697 6240649.0236 609762.9697 6314469.0236 -te_srs EPSG:2154 -tr 10 10 -r near -of GTiff data/images/SENTINEL2A_20221116-105900-865_L2A_T31TCJ_C_V3-1_FRE_B2.tif data/images/SENTINEL2A_20221116-105900-865_L2A_T31TCJ_C_V3-1_FRE_B2_10_2154.tif\n",
      "gdalwarp -s_srs EPSG:32631 -t_srs EPSG:2154 -te 501122.9697 6240649.0236 609762.9697 6314469.0236 -te_srs EPSG:2154 -tr 10 10 -r near -of GTiff data/images/SENTINEL2A_20221116-105900-865_L2A_T31TCJ_C_V3-1_FRE_B3.tif data/images/SENTINEL2A_20221116-105900-865_L2A_T31TCJ_C_V3-1_FRE_B3_10_2154.tif\n",
      "gdalwarp -s_srs EPSG:32631 -t_srs EPSG:2154 -te 501122.9697 6240649.0236 609762.9697 6314469.0236 -te_srs EPSG:2154 -tr 10 10 -r near -of GTiff data/images/SENTINEL2A_20221116-105900-865_L2A_T31TCJ_C_V3-1_FRE_B4.tif data/images/SENTINEL2A_20221116-105900-865_L2A_T31TCJ_C_V3-1_FRE_B4_10_2154.tif\n",
      "gdalwarp -s_srs EPSG:32631 -t_srs EPSG:2154 -te 501122.9697 6240649.0236 609762.9697 6314469.0236 -te_srs EPSG:2154 -tr 10 10 -r near -of GTiff data/images/SENTINEL2A_20221116-105900-865_L2A_T31TCJ_C_V3-1_FRE_B5.tif data/images/SENTINEL2A_20221116-105900-865_L2A_T31TCJ_C_V3-1_FRE_B5_10_2154.tif\n",
      "gdalwarp -s_srs EPSG:32631 -t_srs EPSG:2154 -te 501122.9697 6240649.0236 609762.9697 6314469.0236 -te_srs EPSG:2154 -tr 10 10 -r near -of GTiff data/images/SENTINEL2A_20221116-105900-865_L2A_T31TCJ_C_V3-1_FRE_B6.tif data/images/SENTINEL2A_20221116-105900-865_L2A_T31TCJ_C_V3-1_FRE_B6_10_2154.tif\n",
      "gdalwarp -s_srs EPSG:32631 -t_srs EPSG:2154 -te 501122.9697 6240649.0236 609762.9697 6314469.0236 -te_srs EPSG:2154 -tr 10 10 -r near -of GTiff data/images/SENTINEL2A_20221116-105900-865_L2A_T31TCJ_C_V3-1_FRE_B7.tif data/images/SENTINEL2A_20221116-105900-865_L2A_T31TCJ_C_V3-1_FRE_B7_10_2154.tif\n",
      "gdalwarp -s_srs EPSG:32631 -t_srs EPSG:2154 -te 501122.9697 6240649.0236 609762.9697 6314469.0236 -te_srs EPSG:2154 -tr 10 10 -r near -of GTiff data/images/SENTINEL2A_20221116-105900-865_L2A_T31TCJ_C_V3-1_FRE_B8.tif data/images/SENTINEL2A_20221116-105900-865_L2A_T31TCJ_C_V3-1_FRE_B8_10_2154.tif\n",
      "gdalwarp -s_srs EPSG:32631 -t_srs EPSG:2154 -te 501122.9697 6240649.0236 609762.9697 6314469.0236 -te_srs EPSG:2154 -tr 10 10 -r near -of GTiff data/images/SENTINEL2A_20221116-105900-865_L2A_T31TCJ_C_V3-1_FRE_B8A.tif data/images/SENTINEL2A_20221116-105900-865_L2A_T31TCJ_C_V3-1_FRE_B8A_10_2154.tif\n",
      "gdalwarp -s_srs EPSG:32631 -t_srs EPSG:2154 -te 501122.9697 6240649.0236 609762.9697 6314469.0236 -te_srs EPSG:2154 -tr 10 10 -r near -of GTiff data/images/SENTINEL2A_20221116-105900-865_L2A_T31TCJ_C_V3-1_FRE_B11.tif data/images/SENTINEL2A_20221116-105900-865_L2A_T31TCJ_C_V3-1_FRE_B11_10_2154.tif\n",
      "gdalwarp -s_srs EPSG:32631 -t_srs EPSG:2154 -te 501122.9697 6240649.0236 609762.9697 6314469.0236 -te_srs EPSG:2154 -tr 10 10 -r near -of GTiff data/images/SENTINEL2A_20221116-105900-865_L2A_T31TCJ_C_V3-1_FRE_B12.tif data/images/SENTINEL2A_20221116-105900-865_L2A_T31TCJ_C_V3-1_FRE_B12_10_2154.tif\n",
      "gdalwarp -s_srs EPSG:32631 -t_srs EPSG:2154 -te 501122.9697 6240649.0236 609762.9697 6314469.0236 -te_srs EPSG:2154 -tr 10 10 -r near -of GTiff data/images/SENTINEL2B_20230209-105857-157_L2A_T31TCJ_C_V3-1_FRE_B2.tif data/images/SENTINEL2B_20230209-105857-157_L2A_T31TCJ_C_V3-1_FRE_B2_10_2154.tif\n",
      "gdalwarp -s_srs EPSG:32631 -t_srs EPSG:2154 -te 501122.9697 6240649.0236 609762.9697 6314469.0236 -te_srs EPSG:2154 -tr 10 10 -r near -of GTiff data/images/SENTINEL2B_20230209-105857-157_L2A_T31TCJ_C_V3-1_FRE_B3.tif data/images/SENTINEL2B_20230209-105857-157_L2A_T31TCJ_C_V3-1_FRE_B3_10_2154.tif\n",
      "gdalwarp -s_srs EPSG:32631 -t_srs EPSG:2154 -te 501122.9697 6240649.0236 609762.9697 6314469.0236 -te_srs EPSG:2154 -tr 10 10 -r near -of GTiff data/images/SENTINEL2B_20230209-105857-157_L2A_T31TCJ_C_V3-1_FRE_B4.tif data/images/SENTINEL2B_20230209-105857-157_L2A_T31TCJ_C_V3-1_FRE_B4_10_2154.tif\n",
      "gdalwarp -s_srs EPSG:32631 -t_srs EPSG:2154 -te 501122.9697 6240649.0236 609762.9697 6314469.0236 -te_srs EPSG:2154 -tr 10 10 -r near -of GTiff data/images/SENTINEL2B_20230209-105857-157_L2A_T31TCJ_C_V3-1_FRE_B5.tif data/images/SENTINEL2B_20230209-105857-157_L2A_T31TCJ_C_V3-1_FRE_B5_10_2154.tif\n",
      "gdalwarp -s_srs EPSG:32631 -t_srs EPSG:2154 -te 501122.9697 6240649.0236 609762.9697 6314469.0236 -te_srs EPSG:2154 -tr 10 10 -r near -of GTiff data/images/SENTINEL2B_20230209-105857-157_L2A_T31TCJ_C_V3-1_FRE_B6.tif data/images/SENTINEL2B_20230209-105857-157_L2A_T31TCJ_C_V3-1_FRE_B6_10_2154.tif\n",
      "gdalwarp -s_srs EPSG:32631 -t_srs EPSG:2154 -te 501122.9697 6240649.0236 609762.9697 6314469.0236 -te_srs EPSG:2154 -tr 10 10 -r near -of GTiff data/images/SENTINEL2B_20230209-105857-157_L2A_T31TCJ_C_V3-1_FRE_B7.tif data/images/SENTINEL2B_20230209-105857-157_L2A_T31TCJ_C_V3-1_FRE_B7_10_2154.tif\n",
      "gdalwarp -s_srs EPSG:32631 -t_srs EPSG:2154 -te 501122.9697 6240649.0236 609762.9697 6314469.0236 -te_srs EPSG:2154 -tr 10 10 -r near -of GTiff data/images/SENTINEL2B_20230209-105857-157_L2A_T31TCJ_C_V3-1_FRE_B8.tif data/images/SENTINEL2B_20230209-105857-157_L2A_T31TCJ_C_V3-1_FRE_B8_10_2154.tif\n",
      "gdalwarp -s_srs EPSG:32631 -t_srs EPSG:2154 -te 501122.9697 6240649.0236 609762.9697 6314469.0236 -te_srs EPSG:2154 -tr 10 10 -r near -of GTiff data/images/SENTINEL2B_20230209-105857-157_L2A_T31TCJ_C_V3-1_FRE_B8A.tif data/images/SENTINEL2B_20230209-105857-157_L2A_T31TCJ_C_V3-1_FRE_B8A_10_2154.tif\n",
      "gdalwarp -s_srs EPSG:32631 -t_srs EPSG:2154 -te 501122.9697 6240649.0236 609762.9697 6314469.0236 -te_srs EPSG:2154 -tr 10 10 -r near -of GTiff data/images/SENTINEL2B_20230209-105857-157_L2A_T31TCJ_C_V3-1_FRE_B11.tif data/images/SENTINEL2B_20230209-105857-157_L2A_T31TCJ_C_V3-1_FRE_B11_10_2154.tif\n",
      "gdalwarp -s_srs EPSG:32631 -t_srs EPSG:2154 -te 501122.9697 6240649.0236 609762.9697 6314469.0236 -te_srs EPSG:2154 -tr 10 10 -r near -of GTiff data/images/SENTINEL2B_20230209-105857-157_L2A_T31TCJ_C_V3-1_FRE_B12.tif data/images/SENTINEL2B_20230209-105857-157_L2A_T31TCJ_C_V3-1_FRE_B12_10_2154.tif\n"
     ]
    }
   ],
   "source": [
    "emprise = 'data/project/emprise_etude.shp'\n",
    "bands = [2, 3, 4, 5, 6, 7, 8, '8A', 11, 12]\n",
    "releves = ['B_20220326-105856-076_L2A_T31TCJ_C_V3-0_FRE_B','B_20220405-105855-542_L2A_T31TCJ_C_V3-0_FRE_B','B_20220803-105903-336_L2A_T31TCJ_C_V3-0_FRE_B','B_20221111-105858-090_L2A_T31TCJ_C_V3-1_FRE_B','A_20221116-105900-865_L2A_T31TCJ_C_V3-1_FRE_B','B_20230209-105857-157_L2A_T31TCJ_C_V3-1_FRE_B']\n",
    "img_all_band = []\n",
    "\n",
    "preparation(releves,bands,emprise,img_all_band)"
   ]
  },
  {
   "cell_type": "code",
   "execution_count": 17,
   "id": "63471c82",
   "metadata": {},
   "outputs": [],
   "source": [
    "output_img = 'Serie_temp_S2_allbands.tif'\n",
    "image_filename = 'data/images/SENTINEL2B_20220326-105856-076_L2A_T31TCJ_C_V3-0_FRE_B2_10_2154.tif'\n",
    "img = np.concatenate(img_all_band,axis=-1)\n",
    "data_set = rw.open_image(image_filename)\n",
    "rw.write_image(output_img, img, data_set=data_set)"
   ]
  }
 ],
 "metadata": {
  "kernelspec": {
   "display_name": "Python 3",
   "language": "python",
   "name": "python3"
  },
  "language_info": {
   "codemirror_mode": {
    "name": "ipython",
    "version": 3
   },
   "file_extension": ".py",
   "mimetype": "text/x-python",
   "name": "python",
   "nbconvert_exporter": "python",
   "pygments_lexer": "ipython3",
   "version": "3.8.10"
  }
 },
 "nbformat": 4,
 "nbformat_minor": 5
}
